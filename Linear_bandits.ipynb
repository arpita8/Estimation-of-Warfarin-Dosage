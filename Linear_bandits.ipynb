{
 "cells": [
  {
   "cell_type": "code",
   "execution_count": 2,
   "id": "5922ab91",
   "metadata": {},
   "outputs": [],
   "source": [
    "import pandas as pd\n",
    "import pickle\n",
    "import numpy as np\n",
    "import math\n",
    "warf = pd.read_pickle('data/cleaned_warfarin.pkl')\n",
    "true_values = []\n",
    "with open ('data/true_labels.pkl', 'rb') as f:\n",
    "    true_values = pickle.load(f)"
   ]
  },
  {
   "cell_type": "code",
   "execution_count": 3,
   "id": "733e3b36",
   "metadata": {},
   "outputs": [
    {
     "data": {
      "text/plain": [
       "5528"
      ]
     },
     "execution_count": 3,
     "metadata": {},
     "output_type": "execute_result"
    }
   ],
   "source": [
    "len(warf)"
   ]
  },
  {
   "cell_type": "code",
   "execution_count": 4,
   "id": "221251fe",
   "metadata": {},
   "outputs": [
    {
     "data": {
      "text/plain": [
       "94"
      ]
     },
     "execution_count": 4,
     "metadata": {},
     "output_type": "execute_result"
    }
   ],
   "source": [
    "len(list(warf))"
   ]
  },
  {
   "cell_type": "code",
   "execution_count": 5,
   "id": "6982990f",
   "metadata": {},
   "outputs": [],
   "source": [
    "train_len = math.ceil(len(true_values)*0.80)\n",
    "test_len = len (true_values) - train_len"
   ]
  },
  {
   "cell_type": "code",
   "execution_count": 6,
   "id": "c4716a2b",
   "metadata": {},
   "outputs": [
    {
     "name": "stdout",
     "output_type": "stream",
     "text": [
      "0.006334841628959276\n",
      "0.6742081447963801\n",
      "0.0018099547511312218\n",
      "0.6624434389140271\n",
      "0.0018099547511312218\n",
      "0.6841628959276018\n",
      "0.0027149321266968325\n",
      "0.6850678733031674\n",
      "0.0027149321266968325\n",
      "0.6678733031674208\n",
      "0.0036199095022624436\n",
      "0.6787330316742082\n",
      "0.0018099547511312218\n",
      "0.6886877828054299\n",
      "0.004524886877828055\n",
      "0.6606334841628959\n",
      "0.0018099547511312218\n",
      "0.6624434389140271\n",
      "0.00904977375565611\n",
      "0.6687782805429864\n"
     ]
    }
   ],
   "source": [
    "arms = [\"low\", \"medium\", \"high\"]\n",
    "accuracy = []\n",
    "regrets = []\n",
    "#train\n",
    "r_total = 0\n",
    "for j in range(10):\n",
    "    accuracy_list = []\n",
    "    regret_list = []\n",
    "    regret = 0\n",
    "    risk = 0\n",
    "    A_map = {}\n",
    "    b_map = {} \n",
    "    for arm in arms:\n",
    "        A_map[arm] = np.identity(len(list(warf))) \n",
    "        b_map[arm] = np.zeros(len(list(warf)))\n",
    "    \n",
    "    indices = np.random.permutation(list(range(len(warf))))\n",
    "    for i in indices[:train_len]:\n",
    "        feature = np.array(warf.iloc[i], dtype=float)\n",
    "        \n",
    "        # iterate through actions\n",
    "        p = {}\n",
    "        max_value = -np.inf\n",
    "        max_arm = \"low\"\n",
    "        for arm in arms:\n",
    "            theta = np.matmul(np.linalg.inv(A_map[arm]), b_map[arm])\n",
    "            p = np.matmul(theta.T, feature) + \\\n",
    "                np.sqrt(np.matmul(np.matmul(feature.T,np.linalg.inv(A_map[arm])), feature))\n",
    "            \n",
    "            if p == max_value:\n",
    "                if np.random.choice(a=[False, True]): max_arm = arm\n",
    "            elif p > max_value:\n",
    "                max_value = p\n",
    "                max_arm = arm\n",
    "        \n",
    "        # observe reward and update A and b\n",
    "        r = 0 if max_arm == true_values[i] else -1\n",
    "        regret -= r\n",
    "        A_map[max_arm] += np.outer(feature, feature) \n",
    "        b_map[max_arm] += r*feature\n",
    "        accuracy_list.append((i+1 - regret)/(i+1))\n",
    "        regret_list.append(regret)\n",
    "\n",
    "    correct_count = 0\n",
    "    count = 0\n",
    "    for i in indices[train_len:]:\n",
    "        count += 1\n",
    "        feature = np.array(warf.iloc[i], dtype=float)\n",
    "        # iterate through actions\n",
    "        p = {}\n",
    "        max_value = -np.inf\n",
    "        max_arm = \"low\"\n",
    "        for arm in arms:\n",
    "            theta = np.matmul(np.linalg.inv(A_map[arm]), b_map[arm])\n",
    "            p = np.matmul(theta.T, feature) + \\\n",
    "                    np.sqrt(np.matmul(np.matmul(feature.T,np.linalg.inv(A_map[arm])), feature))\n",
    "            if p == max_value:\n",
    "                if np.random.choice(a=[False, True]): max_arm = arm\n",
    "            elif p > max_value:\n",
    "                max_value = p\n",
    "                max_arm = arm\n",
    "        # observe reward and update A and b\n",
    "        if max_arm == true_values[i]: correct_count += 1\n",
    "        if (max_arm == 'high' and true_values[i] == 'low') or (max_arm == 'low' and true_values[i] == 'high'):\n",
    "            risk += 1\n",
    "    print(risk/count)\n",
    "    print(correct_count/count)\n",
    "    accuracy.append(correct_count/count)"
   ]
  },
  {
   "cell_type": "code",
   "execution_count": 7,
   "id": "30c1cc7b",
   "metadata": {},
   "outputs": [
    {
     "data": {
      "text/plain": [
       "0.6733031674208145"
      ]
     },
     "execution_count": 7,
     "metadata": {},
     "output_type": "execute_result"
    }
   ],
   "source": [
    "np.mean(accuracy)"
   ]
  },
  {
   "cell_type": "code",
   "execution_count": 8,
   "id": "10aebadd",
   "metadata": {},
   "outputs": [
    {
     "data": {
      "text/plain": [
       "1615"
      ]
     },
     "execution_count": 8,
     "metadata": {},
     "output_type": "execute_result"
    }
   ],
   "source": [
    "regret_list[train_len-1]"
   ]
  },
  {
   "cell_type": "code",
   "execution_count": 10,
   "id": "7326ba18",
   "metadata": {},
   "outputs": [],
   "source": [
    "with open('results/linucb_regret.pkl', 'wb') as f:\n",
    "    pickle.dump(regret_list, f)\n",
    "with open('results/linucb_accuracy.pkl', 'wb') as f:\n",
    "    pickle.dump(accuracy_list, f)"
   ]
  },
  {
   "cell_type": "code",
   "execution_count": null,
   "id": "287a5993",
   "metadata": {},
   "outputs": [],
   "source": []
  }
 ],
 "metadata": {
  "kernelspec": {
   "display_name": "Python 3",
   "language": "python",
   "name": "python3"
  },
  "language_info": {
   "codemirror_mode": {
    "name": "ipython",
    "version": 3
   },
   "file_extension": ".py",
   "mimetype": "text/x-python",
   "name": "python",
   "nbconvert_exporter": "python",
   "pygments_lexer": "ipython3",
   "version": "3.7.3"
  }
 },
 "nbformat": 4,
 "nbformat_minor": 5
}
