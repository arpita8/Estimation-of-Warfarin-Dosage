{
 "cells": [
  {
   "cell_type": "code",
   "execution_count": 1,
   "id": "91d59149",
   "metadata": {},
   "outputs": [],
   "source": [
    "import pandas as pd\n",
    "warf = pd.read_csv('data/warfarin.csv')"
   ]
  },
  {
   "cell_type": "code",
   "execution_count": 2,
   "id": "970c65ca",
   "metadata": {},
   "outputs": [],
   "source": [
    "warf = warf.fillna('Unknown')"
   ]
  },
  {
   "cell_type": "code",
   "execution_count": 3,
   "id": "47dbc79a",
   "metadata": {},
   "outputs": [],
   "source": [
    "warf = warf.loc[warf['Age'] != 'Unknown']\n",
    "warf = warf.loc[warf['Height (cm)'] != 'Unknown']\n",
    "warf = warf.loc[warf['Weight (kg)'] != 'Unknown']\n",
    "warf = warf.loc[warf['Carbamazepine (Tegretol)'] != 'Unknown']\n",
    "warf = warf.loc[warf['Phenytoin (Dilantin)'] != 'Unknown']\n",
    "warf = warf.loc[warf['Rifampin or Rifampicin'] != 'Unknown']\n",
    "warf = warf.loc[warf['Amiodarone (Cordarone)'] != 'Unknown']"
   ]
  },
  {
   "cell_type": "code",
   "execution_count": 4,
   "id": "bb8e7615",
   "metadata": {},
   "outputs": [],
   "source": [
    "warf['Carbamazepine (Tegretol)'] = warf['Carbamazepine (Tegretol)'].map({1.0: True, 0.0: False})\n",
    "warf['Phenytoin (Dilantin)'] = warf['Phenytoin (Dilantin)'].map({1.0: True, 0.0:False})\n",
    "warf['Rifampin or Rifampicin'] = warf['Rifampin or Rifampicin'].map({1.0: True, 0.0:False})"
   ]
  },
  {
   "cell_type": "code",
   "execution_count": 5,
   "id": "32f6e908",
   "metadata": {},
   "outputs": [],
   "source": [
    "cols = ['Cyp2C9 genotypes', 'VKORC1 genotype: -1639 G>A (3673); chr16:31015190; rs9923231; C/T']\n",
    "warf = pd.get_dummies(warf, prefix = cols, columns=cols)"
   ]
  },
  {
   "cell_type": "code",
   "execution_count": 6,
   "id": "ff01cd35",
   "metadata": {},
   "outputs": [],
   "source": [
    "warf['Age'] = warf['Age'].map({'10 - 19': 1, '20 - 29': 2, '30 - 39': 3, '40 - 49': 4, '50 - 59': 5, '60 - 69': 6, '70 - 79': 7, '80 - 89' : 8, '90+' : 9})"
   ]
  },
  {
   "cell_type": "code",
   "execution_count": 7,
   "id": "f10b429b",
   "metadata": {},
   "outputs": [],
   "source": [
    "warf = pd.get_dummies(warf, prefix=['Race'],columns=['Race'])"
   ]
  },
  {
   "cell_type": "code",
   "execution_count": 8,
   "id": "7c4c4314",
   "metadata": {},
   "outputs": [
    {
     "data": {
      "text/plain": [
       "False    2122\n",
       "Name: Enzyme inducer status, dtype: int64"
      ]
     },
     "execution_count": 8,
     "metadata": {},
     "output_type": "execute_result"
    }
   ],
   "source": [
    "warf['Enzyme inducer status'] = warf[\"Carbamazepine (Tegretol)\"] & warf[\"Phenytoin (Dilantin)\"] & warf[\"Rifampin or Rifampicin\"]\n",
    "warf['Enzyme inducer status'].value_counts()"
   ]
  },
  {
   "cell_type": "code",
   "execution_count": 9,
   "id": "f34926f0",
   "metadata": {},
   "outputs": [],
   "source": [
    "warf['Pharmacogenetic Dose'] = \\\n",
    "5.6044 \\\n",
    "- 0.2614*warf['Age']\\\n",
    "+ 0.0087*warf['Height (cm)']\\\n",
    "+ 0.0128*warf['Weight (kg)']\\\n",
    "- 0.1092*warf['Race_Asian']\\\n",
    "- 0.2760*warf['Race_Black or African American']\\\n",
    "- 0.1032*warf['Race_Unknown']\\\n",
    "+ 1.1816*warf['Enzyme inducer status']\\\n",
    "-   0.5503*warf['Amiodarone (Cordarone)']\\\n",
    "- 0.5211*warf['Cyp2C9 genotypes_*1/*2']\\\n",
    "- 0.9357*warf['Cyp2C9 genotypes_*1/*3']\\\n",
    "- 1.0616*warf['Cyp2C9 genotypes_*2/*2']\\\n",
    "- 1.9206*warf['Cyp2C9 genotypes_*2/*3']\\\n",
    "- 2.3312*warf['Cyp2C9 genotypes_*3/*3']\\\n",
    "- 0.2188*warf['Cyp2C9 genotypes_Unknown']\\\n",
    "- 1.6974*warf['VKORC1 genotype: -1639 G>A (3673); chr16:31015190; rs9923231; C/T_A/A']\\\n",
    "- 0.8677*warf['VKORC1 genotype: -1639 G>A (3673); chr16:31015190; rs9923231; C/T_A/G']\\\n",
    "- 0.4854*warf['VKORC1 genotype: -1639 G>A (3673); chr16:31015190; rs9923231; C/T_Unknown']\n",
    "warf['Pharmacogenetic Dose'] =  warf['Pharmacogenetic Dose']*warf['Pharmacogenetic Dose']"
   ]
  },
  {
   "cell_type": "code",
   "execution_count": 10,
   "id": "0244186e",
   "metadata": {},
   "outputs": [],
   "source": [
    "bins = pd.IntervalIndex.from_tuples([(0, 20.9999), (20.9999, 49), (49, 20000)])\n",
    "warf[\"Therapeutic Dose of Warfarin\"] = pd.cut(warf[\"Therapeutic Dose of Warfarin\"], bins)\n",
    "warf['Pharmacogenetic Dose'] = pd.cut(warf['Pharmacogenetic Dose'], bins)"
   ]
  },
  {
   "cell_type": "code",
   "execution_count": 11,
   "id": "e200a68c",
   "metadata": {},
   "outputs": [
    {
     "data": {
      "text/plain": [
       "['PharmGKB Subject ID',\n",
       " 'Gender',\n",
       " 'Ethnicity',\n",
       " 'Age',\n",
       " 'Height (cm)',\n",
       " 'Weight (kg)',\n",
       " 'Indication for Warfarin Treatment',\n",
       " 'Comorbidities',\n",
       " 'Diabetes',\n",
       " 'Congestive Heart Failure and/or Cardiomyopathy',\n",
       " 'Valve Replacement',\n",
       " 'Medications',\n",
       " 'Aspirin',\n",
       " 'Acetaminophen or Paracetamol (Tylenol)',\n",
       " 'Was Dose of Acetaminophen or Paracetamol (Tylenol) >1300mg/day',\n",
       " 'Simvastatin (Zocor)',\n",
       " 'Atorvastatin (Lipitor)',\n",
       " 'Fluvastatin (Lescol)',\n",
       " 'Lovastatin (Mevacor)',\n",
       " 'Pravastatin (Pravachol)',\n",
       " 'Rosuvastatin (Crestor)',\n",
       " 'Cerivastatin (Baycol)',\n",
       " 'Amiodarone (Cordarone)',\n",
       " 'Carbamazepine (Tegretol)',\n",
       " 'Phenytoin (Dilantin)',\n",
       " 'Rifampin or Rifampicin',\n",
       " 'Sulfonamide Antibiotics',\n",
       " 'Macrolide Antibiotics',\n",
       " 'Anti-fungal Azoles',\n",
       " 'Herbal Medications, Vitamins, Supplements',\n",
       " 'Target INR',\n",
       " 'Estimated Target INR Range Based on Indication',\n",
       " 'Subject Reached Stable Dose of Warfarin',\n",
       " 'Therapeutic Dose of Warfarin',\n",
       " 'INR on Reported Therapeutic Dose of Warfarin',\n",
       " 'Current Smoker',\n",
       " 'Genotyped QC Cyp2C9*2',\n",
       " 'Genotyped QC Cyp2C9*3',\n",
       " 'Combined QC CYP2C9',\n",
       " 'VKORC1 QC genotype: -1639 G>A (3673); chr16:31015190; rs9923231; C/T',\n",
       " 'VKORC1 genotype: 497T>G (5808); chr16:31013055; rs2884737; A/C',\n",
       " 'VKORC1 QC genotype: 497T>G (5808); chr16:31013055; rs2884737; A/C',\n",
       " 'VKORC1 genotype: 1173 C>T(6484); chr16:31012379; rs9934438; A/G',\n",
       " 'VKORC1 QC genotype: 1173 C>T(6484); chr16:31012379; rs9934438; A/G',\n",
       " 'VKORC1 genotype: 1542G>C (6853); chr16:31012010; rs8050894; C/G',\n",
       " 'VKORC1 QC genotype: 1542G>C (6853); chr16:31012010; rs8050894; C/G',\n",
       " 'VKORC1 genotype: 3730 G>A (9041); chr16:31009822; rs7294;  A/G',\n",
       " 'VKORC1 QC genotype: 3730 G>A (9041); chr16:31009822; rs7294;  A/G',\n",
       " 'VKORC1 genotype: 2255C>T (7566); chr16:31011297; rs2359612; A/G',\n",
       " 'VKORC1 QC genotype: 2255C>T (7566); chr16:31011297; rs2359612; A/G',\n",
       " 'VKORC1 genotype: -4451 C>A (861); Chr16:31018002; rs17880887; A/C',\n",
       " 'VKORC1 QC genotype: -4451 C>A (861); Chr16:31018002; rs17880887; A/C',\n",
       " 'CYP2C9 consensus',\n",
       " 'VKORC1 -1639 consensus',\n",
       " 'VKORC1 497 consensus',\n",
       " 'VKORC1 1173 consensus',\n",
       " 'VKORC1 1542 consensus',\n",
       " 'VKORC1 3730 consensus',\n",
       " 'VKORC1 2255 consensus',\n",
       " 'VKORC1 -4451 consensus',\n",
       " 'Unnamed: 63',\n",
       " 'Unnamed: 64',\n",
       " 'Unnamed: 65',\n",
       " 'Cyp2C9 genotypes_*1/*1',\n",
       " 'Cyp2C9 genotypes_*1/*11',\n",
       " 'Cyp2C9 genotypes_*1/*13',\n",
       " 'Cyp2C9 genotypes_*1/*14',\n",
       " 'Cyp2C9 genotypes_*1/*2',\n",
       " 'Cyp2C9 genotypes_*1/*3',\n",
       " 'Cyp2C9 genotypes_*1/*5',\n",
       " 'Cyp2C9 genotypes_*1/*6',\n",
       " 'Cyp2C9 genotypes_*2/*2',\n",
       " 'Cyp2C9 genotypes_*2/*3',\n",
       " 'Cyp2C9 genotypes_*3/*3',\n",
       " 'Cyp2C9 genotypes_Unknown',\n",
       " 'VKORC1 genotype: -1639 G>A (3673); chr16:31015190; rs9923231; C/T_A/A',\n",
       " 'VKORC1 genotype: -1639 G>A (3673); chr16:31015190; rs9923231; C/T_A/G',\n",
       " 'VKORC1 genotype: -1639 G>A (3673); chr16:31015190; rs9923231; C/T_G/G',\n",
       " 'VKORC1 genotype: -1639 G>A (3673); chr16:31015190; rs9923231; C/T_Unknown',\n",
       " 'Race_Asian',\n",
       " 'Race_Black or African American',\n",
       " 'Race_Unknown',\n",
       " 'Race_White',\n",
       " 'Enzyme inducer status',\n",
       " 'Pharmacogenetic Dose']"
      ]
     },
     "execution_count": 11,
     "metadata": {},
     "output_type": "execute_result"
    }
   ],
   "source": [
    "list(warf)"
   ]
  },
  {
   "cell_type": "code",
   "execution_count": 12,
   "id": "e21434f9",
   "metadata": {},
   "outputs": [
    {
     "data": {
      "text/plain": [
       "True     1459\n",
       "False     663\n",
       "Name: Correct, dtype: int64"
      ]
     },
     "execution_count": 12,
     "metadata": {},
     "output_type": "execute_result"
    }
   ],
   "source": [
    "warf['Correct'] = warf['Pharmacogenetic Dose'] == warf[\"Therapeutic Dose of Warfarin\"]\n",
    "warf['Correct'].value_counts()"
   ]
  },
  {
   "cell_type": "code",
   "execution_count": 13,
   "id": "9409c703",
   "metadata": {},
   "outputs": [
    {
     "data": {
      "text/plain": [
       "0.6875589066918002"
      ]
     },
     "execution_count": 13,
     "metadata": {},
     "output_type": "execute_result"
    }
   ],
   "source": [
    "1459/(1459+663)"
   ]
  },
  {
   "cell_type": "code",
   "execution_count": null,
   "id": "db8c986e",
   "metadata": {},
   "outputs": [],
   "source": []
  }
 ],
 "metadata": {
  "kernelspec": {
   "display_name": "Python 3",
   "language": "python",
   "name": "python3"
  },
  "language_info": {
   "codemirror_mode": {
    "name": "ipython",
    "version": 3
   },
   "file_extension": ".py",
   "mimetype": "text/x-python",
   "name": "python",
   "nbconvert_exporter": "python",
   "pygments_lexer": "ipython3",
   "version": "3.7.3"
  }
 },
 "nbformat": 4,
 "nbformat_minor": 5
}
