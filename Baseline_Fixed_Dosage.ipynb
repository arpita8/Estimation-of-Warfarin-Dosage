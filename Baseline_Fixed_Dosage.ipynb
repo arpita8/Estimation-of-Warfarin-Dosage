{
 "cells": [
  {
   "cell_type": "code",
   "execution_count": 2,
   "id": "77a6994e",
   "metadata": {},
   "outputs": [],
   "source": [
    "import pandas as pd\n",
    "import numpy as np\n",
    "import sys\n",
    "\n",
    "warf_fixedbl = pd.read_csv(\"data/warfarin.csv\")"
   ]
  },
  {
   "cell_type": "code",
   "execution_count": 3,
   "id": "cd4ba35f",
   "metadata": {},
   "outputs": [],
   "source": [
    "bins = pd.IntervalIndex.from_tuples([(0, 20.9999), (20.9999, 49), (49, 20000)])"
   ]
  },
  {
   "cell_type": "code",
   "execution_count": 4,
   "id": "f47c5d70",
   "metadata": {},
   "outputs": [],
   "source": [
    "cut = pd.cut(warf_fixedbl[\"Therapeutic Dose of Warfarin\"], bins)"
   ]
  },
  {
   "cell_type": "code",
   "execution_count": 5,
   "id": "dd6afb9a",
   "metadata": {},
   "outputs": [],
   "source": [
    "number_right = warf_fixedbl[\"Therapeutic Dose of Warfarin\"].value_counts(bins = bins)"
   ]
  },
  {
   "cell_type": "code",
   "execution_count": 6,
   "id": "052250ce",
   "metadata": {},
   "outputs": [
    {
     "name": "stdout",
     "output_type": "stream",
     "text": [
      "(20.9999, 49.0]    3382\n",
      "(0.0, 20.9999]     1495\n",
      "(49.0, 20000.0]     651\n",
      "Name: Therapeutic Dose of Warfarin, dtype: int64\n"
     ]
    }
   ],
   "source": [
    "print(number_right)"
   ]
  },
  {
   "cell_type": "code",
   "execution_count": 7,
   "id": "6090a120",
   "metadata": {},
   "outputs": [
    {
     "data": {
      "text/plain": [
       "0.611794500723589"
      ]
     },
     "execution_count": 7,
     "metadata": {},
     "output_type": "execute_result"
    }
   ],
   "source": [
    "accuracy = 3382/(1495+3382+651)\n",
    "accuracy"
   ]
  },
  {
   "cell_type": "code",
   "execution_count": null,
   "id": "93af2326",
   "metadata": {},
   "outputs": [],
   "source": []
  }
 ],
 "metadata": {
  "kernelspec": {
   "display_name": "Python 3",
   "language": "python",
   "name": "python3"
  },
  "language_info": {
   "codemirror_mode": {
    "name": "ipython",
    "version": 3
   },
   "file_extension": ".py",
   "mimetype": "text/x-python",
   "name": "python",
   "nbconvert_exporter": "python",
   "pygments_lexer": "ipython3",
   "version": "3.7.3"
  }
 },
 "nbformat": 4,
 "nbformat_minor": 5
}
