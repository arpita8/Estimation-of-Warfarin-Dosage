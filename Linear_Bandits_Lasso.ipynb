{
 "cells": [
  {
   "cell_type": "code",
   "execution_count": 2,
   "id": "147830d3",
   "metadata": {},
   "outputs": [],
   "source": [
    "import pandas as pd\n",
    "import pickle\n",
    "import numpy as np\n",
    "import math\n",
    "from sklearn import linear_model\n",
    "warf = pd.read_pickle('data/cleaned_warfarin.pkl')\n",
    "true_values = []\n",
    "with open('data/true_labels.pkl', 'rb') as f:\n",
    "    true_values = pickle.load(f)\n"
   ]
  },
  {
   "cell_type": "code",
   "execution_count": 3,
   "id": "c39e9941",
   "metadata": {},
   "outputs": [
    {
     "data": {
      "text/plain": [
       "5528"
      ]
     },
     "execution_count": 3,
     "metadata": {},
     "output_type": "execute_result"
    }
   ],
   "source": [
    "len(warf)"
   ]
  },
  {
   "cell_type": "code",
   "execution_count": 4,
   "id": "c41ecd46",
   "metadata": {},
   "outputs": [
    {
     "data": {
      "text/plain": [
       "94"
      ]
     },
     "execution_count": 4,
     "metadata": {},
     "output_type": "execute_result"
    }
   ],
   "source": [
    "len(list(warf))"
   ]
  },
  {
   "cell_type": "code",
   "execution_count": 9,
   "id": "68b38800",
   "metadata": {},
   "outputs": [],
   "source": [
    "train_len = math.ceil(len(true_values)*0.8)\n",
    "test_len = len(true_values) - train_len\n"
   ]
  },
  {
   "cell_type": "code",
   "execution_count": 10,
   "id": "ec0b61cf",
   "metadata": {},
   "outputs": [
    {
     "data": {
      "text/plain": [
       "1105"
      ]
     },
     "execution_count": 10,
     "metadata": {},
     "output_type": "execute_result"
    }
   ],
   "source": [
    "test_len"
   ]
  },
  {
   "cell_type": "code",
   "execution_count": 13,
   "id": "7ec03242",
   "metadata": {},
   "outputs": [
    {
     "data": {
      "text/plain": [
       "Lasso(alpha=0.0007, fit_intercept=False)"
      ]
     },
     "execution_count": 13,
     "metadata": {},
     "output_type": "execute_result"
    }
   ],
   "source": [
    "clf = linear_model.Lasso(alpha=0.0007, fit_intercept=False)\n",
    "\n",
    "x_values = []\n",
    "true_labels = []\n",
    "indices = np.random.permutation(list(range(len(warf))))\n",
    "for i in indices:\n",
    "    feature = np.array(warf.iloc[i], dtype=float)\n",
    "    x_values.append(feature)\n",
    "    if true_values[i] == \"low\": true_labels.append(0)\n",
    "    elif true_values[i] == \"medium\": true_labels.append(1)\n",
    "    else: true_labels.append(2)\n",
    "\n",
    "\n",
    "clf.fit(np.array(x_values[:train_len]), true_labels[:train_len])"
   ]
  },
  {
   "cell_type": "code",
   "execution_count": 14,
   "id": "9f8847c5",
   "metadata": {},
   "outputs": [
    {
     "data": {
      "text/plain": [
       "0.7004524886877828"
      ]
     },
     "execution_count": 14,
     "metadata": {},
     "output_type": "execute_result"
    }
   ],
   "source": [
    "prediction = np.rint(clf.predict(np.array(x_values[train_len:])))\n",
    "correct_count = 0\n",
    "count = 0\n",
    "for j in range(len(prediction)):\n",
    "    if prediction[j] == true_labels[train_len + j]:\n",
    "        correct_count += 1\n",
    "    count += 1\n",
    "\n",
    "correct_count/count"
   ]
  },
  {
   "cell_type": "code",
   "execution_count": null,
   "id": "7e9e7c21",
   "metadata": {},
   "outputs": [],
   "source": []
  }
 ],
 "metadata": {
  "kernelspec": {
   "display_name": "Python 3",
   "language": "python",
   "name": "python3"
  },
  "language_info": {
   "codemirror_mode": {
    "name": "ipython",
    "version": 3
   },
   "file_extension": ".py",
   "mimetype": "text/x-python",
   "name": "python",
   "nbconvert_exporter": "python",
   "pygments_lexer": "ipython3",
   "version": "3.7.3"
  }
 },
 "nbformat": 4,
 "nbformat_minor": 5
}
